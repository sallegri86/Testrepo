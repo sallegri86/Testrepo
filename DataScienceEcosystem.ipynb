{
  "metadata": {
    "kernelspec": {
      "name": "python",
      "display_name": "Python (Pyodide)",
      "language": "python"
    },
    "language_info": {
      "codemirror_mode": {
        "name": "python",
        "version": 3
      },
      "file_extension": ".py",
      "mimetype": "text/x-python",
      "name": "python",
      "nbconvert_exporter": "python",
      "pygments_lexer": "ipython3",
      "version": "3.8"
    }
  },
  "nbformat_minor": 5,
  "nbformat": 4,
  "cells": [
    {
      "id": "b099f5e7-a447-4d57-96ca-d01c33faf28a",
      "cell_type": "markdown",
      "source": "# Data Science Tools and Ecosystem",
      "metadata": {}
    },
    {
      "id": "69354127-8cdd-411b-b27a-726c2769e69d",
      "cell_type": "markdown",
      "source": "In this notebook, Data Science Tools and Ecosystem are summarized.",
      "metadata": {}
    },
    {
      "id": "6dffb5de-bb19-4121-aa32-a2cf59743362",
      "cell_type": "markdown",
      "source": "**Objectives:**",
      "metadata": {}
    },
    {
      "id": "9995d017-2999-47e9-927c-67ae48e71a9d",
      "cell_type": "markdown",
      "source": "* List popular languages for Data Science\n* List popular tools for Data Science\n* Tell the differnece betwen open source and free software\n* Create visualization using **ggplot**",
      "metadata": {}
    },
    {
      "id": "a99dd1d5-4069-45da-8649-3d74b06e4d11",
      "cell_type": "markdown",
      "source": "Some of the popular languages that Data Scientists use are:\n1. Python\n2. R\n3. Julia",
      "metadata": {}
    },
    {
      "id": "9276f677-630d-44f0-8011-77078476d813",
      "cell_type": "markdown",
      "source": "Some of the commonly used libraries used by Data Scientists include:\n1. NumPy\n2. Pandas\n3. PyTorch",
      "metadata": {}
    },
    {
      "id": "ceb1f4fe-6ae2-4c37-9f26-1ca388e6b267",
      "cell_type": "markdown",
      "source": "| Data Science Tools |\n| ----------- |\n| Apache Spark |\n| TensorFlow |\n| SQL |",
      "metadata": {}
    },
    {
      "id": "d51d5998-ae88-4ab8-896b-f0bf65263577",
      "cell_type": "markdown",
      "source": "### Below are a few examples of evaluating arithmetic expressions in Python",
      "metadata": {}
    },
    {
      "id": "f3905209-289c-4b0d-b6bc-00523e286856",
      "cell_type": "code",
      "source": "# This a simple arithmetic expression to mutiply then add integers\n(3*4)+5",
      "metadata": {
        "trusted": true
      },
      "outputs": [
        {
          "execution_count": 1,
          "output_type": "execute_result",
          "data": {
            "text/plain": "17"
          },
          "metadata": {}
        }
      ],
      "execution_count": 1
    },
    {
      "id": "3e8e84ac-a4c3-4b78-b29e-453a775d726a",
      "cell_type": "code",
      "source": "# This will convert 200 minutes to hours by dividing by 60\n200/60",
      "metadata": {
        "trusted": true
      },
      "outputs": [
        {
          "execution_count": 2,
          "output_type": "execute_result",
          "data": {
            "text/plain": "3.3333333333333335"
          },
          "metadata": {}
        }
      ],
      "execution_count": 2
    },
    {
      "id": "0b27adb7-5846-49d4-8155-7406ceeca010",
      "cell_type": "markdown",
      "source": "## Author\nSergio A.",
      "metadata": {}
    }
  ]
}